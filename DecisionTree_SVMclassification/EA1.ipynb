{
 "cells": [
  {
   "cell_type": "markdown",
   "id": "2c3c8053",
   "metadata": {},
   "source": [
    "<center>Washington State University</center>\n",
    "<center>School of Electrical Engineering and Computer Science</center>\n",
    "<center>CptS 315 – Introduction to Data Mining</center>           <center>Online</center>\n",
    "<center>Ananth Jillepalli</center>\n",
    "<center>Empirical Analysis 1</center><br>\n",
    "\n",
    "<center>Name: Nam Jun Lee</center>\n",
    "<center>Student Number: 11606459</center>\n",
    "<div style=\"page-break-after: always; visibility: hidden\">\n",
    "\\pagebreak\n",
    "</div>"
   ]
  },
  {
   "cell_type": "markdown",
   "id": "7efca6eb",
   "metadata": {},
   "source": [
    "**Import Packages**"
   ]
  },
  {
   "cell_type": "code",
   "execution_count": 1,
   "id": "298cf3c7",
   "metadata": {
    "ExecuteTime": {
     "end_time": "2022-06-08T07:45:24.387749Z",
     "start_time": "2022-06-08T07:45:23.250676Z"
    }
   },
   "outputs": [],
   "source": [
    "from scipy.io import arff\n",
    "import pandas as pd\n",
    "from sklearn.tree import DecisionTreeClassifier\n",
    "from sklearn.ensemble import BaggingClassifier\n",
    "from sklearn.model_selection import train_test_split\n",
    "import matplotlib.pyplot as plt\n",
    "from sklearn.metrics import accuracy_score\n",
    "from sklearn.svm import SVC"
   ]
  },
  {
   "cell_type": "markdown",
   "id": "fb63dda3",
   "metadata": {},
   "source": [
    "**Global variables**"
   ]
  },
  {
   "cell_type": "code",
   "execution_count": 2,
   "id": "82567b34",
   "metadata": {
    "ExecuteTime": {
     "end_time": "2022-06-08T07:45:24.391214Z",
     "start_time": "2022-06-08T07:45:24.388838Z"
    }
   },
   "outputs": [],
   "source": [
    "# number of trees using plot\n",
    "numTreeUsingPlot = [10, 20, 40, 60, 80, 100]\n",
    "# diffeent values of C parameter using plot\n",
    "cParaUsingPlot = [0.0001, 0.001, 0.01, 0.1, 1, 10, 100, 1000, 10000]"
   ]
  },
  {
   "cell_type": "markdown",
   "id": "94241810",
   "metadata": {
    "ExecuteTime": {
     "end_time": "2022-06-08T07:00:42.624243Z",
     "start_time": "2022-06-08T07:00:42.621469Z"
    }
   },
   "source": [
    "**Bagged Decision Tree Function**"
   ]
  },
  {
   "cell_type": "code",
   "execution_count": 3,
   "id": "f8904341",
   "metadata": {
    "ExecuteTime": {
     "end_time": "2022-06-08T07:45:24.438723Z",
     "start_time": "2022-06-08T07:45:24.393770Z"
    }
   },
   "outputs": [],
   "source": [
    "# function of the different depth and different sizes of bagged trees\n",
    "def baggedDecision(depth, x, y, xTest, yTest):\n",
    "    # number of trees\n",
    "    numTree = [10, 20, 40, 60, 80, 100]\n",
    "    # test accuracy list\n",
    "    Testaccuracy = []\n",
    "    # train accuracy list\n",
    "    Trainaccuracy = []\n",
    "    # Learn the bagged decision tree model in order of size\n",
    "    for n_estimators in numTree:\n",
    "        # fit bagged decision tree\n",
    "        clf = BaggingClassifier(DecisionTreeClassifier(max_depth=depth),\n",
    "                           n_estimators=n_estimators, random_state=1)\n",
    "        clf.fit(x,y)\n",
    "        # find train accuracy\n",
    "        Trainacc = clf.score(x, y)\n",
    "        # find test accuracy\n",
    "        Testacc = clf.score(xTest, yTest)\n",
    "        # putting each accuracy in each list\n",
    "        Trainaccuracy.append(Trainacc)\n",
    "        Testaccuracy.append(Testacc)\n",
    "    # create a data frame to determine the accuracy of each tree by size\n",
    "    decTree = {'Depth' : depth,\n",
    "    'Num of Tree' : numTree,\n",
    "      'Train': Trainaccuracy,\n",
    "     'Test' : Testaccuracy}\n",
    "    decTreeTb = pd.DataFrame(decTree)\n",
    "    # return accuracy table, train accuracy list, test accuracy list\n",
    "    return decTreeTb, Trainaccuracy, Testaccuracy\n",
    "    "
   ]
  },
  {
   "cell_type": "markdown",
   "id": "7b848cd9",
   "metadata": {},
   "source": [
    "**SVM Classification Function (Linear)**"
   ]
  },
  {
   "cell_type": "code",
   "execution_count": 4,
   "id": "14837008",
   "metadata": {
    "ExecuteTime": {
     "end_time": "2022-06-08T07:45:24.444113Z",
     "start_time": "2022-06-08T07:45:24.439996Z"
    }
   },
   "outputs": [],
   "source": [
    "# function of the different C parameter of linear kernel SVM model\n",
    "def SVMLinear(degree, x, y, xTest, yTest):\n",
    "    # C parameter = 0.0001, 0.001, 0.01, 0.1, 0, 10, 100, 1000, 10000\n",
    "    cPara = [0.0001, 0.001, 0.01, 0.1, 1, 10, 100, 1000, 10000]\n",
    "    # test accuracy list\n",
    "    TestaccuracyLinear = []\n",
    "    # train accuracy list\n",
    "    TrainaccuracyLinear = []\n",
    "    # Learn the linear SVM classifcation model in order of C parameter\n",
    "    for n_estimators in cPara:\n",
    "        # fit linear SVM model\n",
    "        svm_md = SVC(kernel='linear', C= n_estimators, random_state=1)\n",
    "        svm_md.fit(x,y)\n",
    "        # find train and test accuracy\n",
    "        Trainacc = svm_md.score(x, y)\n",
    "        Testacc = svm_md.score(xTest, yTest)\n",
    "        # putting each accuracy in each list\n",
    "        TrainaccuracyLinear.append(Trainacc)\n",
    "        TestaccuracyLinear.append(Testacc)\n",
    "    # crate a data frame to determine the accuracy of each c parameter\n",
    "    svmMdListVL = {\n",
    "               'Kernel' : 'Linear',\n",
    "    'Degree' : 0,\n",
    "    'C Parameter' : cPara,\n",
    "      'Train': TrainaccuracyLinear,\n",
    "     'Test' : TestaccuracyLinear}\n",
    "    svmTb = pd.DataFrame(svmMdListVL)\n",
    "    # return accuracy table, train accuracy list, test accuracy list\n",
    "    return svmTb, TrainaccuracyLinear, TestaccuracyLinear"
   ]
  },
  {
   "cell_type": "markdown",
   "id": "cd801154",
   "metadata": {
    "ExecuteTime": {
     "end_time": "2022-06-08T02:13:53.827954Z",
     "start_time": "2022-06-08T02:13:53.817900Z"
    }
   },
   "source": [
    "**SVM Classification Function (Polynomial)**"
   ]
  },
  {
   "cell_type": "code",
   "execution_count": 5,
   "id": "04a6c58a",
   "metadata": {
    "ExecuteTime": {
     "end_time": "2022-06-08T07:45:24.449555Z",
     "start_time": "2022-06-08T07:45:24.445341Z"
    }
   },
   "outputs": [],
   "source": [
    "# function of the different C parameter and different degree of polynomial kernel SVM model \n",
    "def SVMPoly(degree, x, y, xTest, yTest):\n",
    "    # C parameter = 0.0001, 0.001, 0.01, 0.1, 0, 10, 100, 1000, 10000\n",
    "    cPara = [0.0001, 0.001, 0.01, 0.1, 1, 10, 100, 1000, 10000]\n",
    "    # test accuracy list\n",
    "    TestaccuracyPoly = []\n",
    "    # train accuracy list\n",
    "    TrainaccuracyPoly = []\n",
    "    # Learn the polynomial SVM classifcation model in order of C parameter\n",
    "    for n_estimators in cPara:\n",
    "        # fit polynomial SVM model\n",
    "        svm_mdPoly = SVC(kernel='poly', C= n_estimators, random_state=1, degree=degree)\n",
    "        svm_mdPoly.fit(x,y)\n",
    "        # find train and test accuracy\n",
    "        Trainacc = svm_mdPoly.score(x, y)\n",
    "        Testacc = svm_mdPoly.score(xTest, yTest)\n",
    "        # putting each accuracy in each list\n",
    "        TrainaccuracyPoly.append(Trainacc)\n",
    "        TestaccuracyPoly.append(Testacc)\n",
    "    # crate a data frame to determine the accuracy of each c parameter\n",
    "    svmMdListVP = {\n",
    "               'Kernel' : 'Polynomial',\n",
    "    'Degree' : degree,\n",
    "    'C Parameter' : cPara,\n",
    "      'Train': TrainaccuracyPoly,\n",
    "     'Test' : TestaccuracyPoly}\n",
    "    svmTbPoly = pd.DataFrame(svmMdListVP)\n",
    "    # return accuracy table, train accuracy list, test accuracy list\n",
    "    return svmTbPoly, TrainaccuracyPoly, TestaccuracyPoly"
   ]
  },
  {
   "cell_type": "markdown",
   "id": "586a4b01",
   "metadata": {
    "ExecuteTime": {
     "end_time": "2022-06-08T01:35:35.984909Z",
     "start_time": "2022-06-08T01:35:35.969471Z"
    }
   },
   "source": [
    "**1. VOTING**"
   ]
  },
  {
   "cell_type": "code",
   "execution_count": 6,
   "id": "629da5d0",
   "metadata": {
    "ExecuteTime": {
     "end_time": "2022-06-08T07:45:24.466105Z",
     "start_time": "2022-06-08T07:45:24.450641Z"
    }
   },
   "outputs": [],
   "source": [
    "# import voting dataset\n",
    "data1 = arff.loadarff('vote.arff')\n",
    "# voting data into data frame\n",
    "df1 = pd.DataFrame(data1[0])\n",
    "# remove b from a byte string\n",
    "df1 = df1.apply(lambda x: x.str.decode('utf8'))"
   ]
  },
  {
   "cell_type": "code",
   "execution_count": 7,
   "id": "457ca5c6",
   "metadata": {
    "ExecuteTime": {
     "end_time": "2022-06-08T07:45:24.484009Z",
     "start_time": "2022-06-08T07:45:24.467298Z"
    }
   },
   "outputs": [],
   "source": [
    "# Remove any question marks that exist in vote arff data\n",
    "df1['handicapped-infants'] = df1['handicapped-infants'].apply(lambda x: None if x == '?' else x).fillna(method='bfill')\n",
    "df1['water-project-cost-sharing'] = df1['water-project-cost-sharing'].apply(lambda x: None if x == '?' else x).fillna(method='bfill')\n",
    "df1['adoption-of-the-budget-resolution'] = df1['adoption-of-the-budget-resolution'].apply(lambda x: None if x == '?' else x).fillna(method='bfill')\n",
    "df1['physician-fee-freeze'] = df1['physician-fee-freeze'].apply(lambda x: None if x == '?' else x).fillna(method='bfill')\n",
    "df1['el-salvador-aid'] = df1['el-salvador-aid'].apply(lambda x: None if x == '?' else x).fillna(method='bfill')\n",
    "df1['religious-groups-in-schools'] = df1['religious-groups-in-schools'].apply(lambda x: None if x == '?' else x).fillna(method='bfill')\n",
    "df1['anti-satellite-test-ban'] = df1['anti-satellite-test-ban'].apply(lambda x: None if x == '?' else x).fillna(method='bfill')\n",
    "df1['aid-to-nicaraguan-contras'] = df1['aid-to-nicaraguan-contras'].apply(lambda x: None if x == '?' else x).fillna(method='bfill')\n",
    "df1['mx-missile'] = df1['mx-missile'].apply(lambda x: None if x == '?' else x).fillna(method='bfill')\n",
    "df1['immigration'] = df1['immigration'].apply(lambda x: None if x == '?' else x).fillna(method='bfill')\n",
    "df1['synfuels-corporation-cutback'] = df1['synfuels-corporation-cutback'].apply(lambda x: None if x == '?' else x).fillna(method='bfill')\n",
    "df1['education-spending'] = df1['education-spending'].apply(lambda x: None if x == '?' else x).fillna(method='bfill')\n",
    "df1['superfund-right-to-sue'] = df1['superfund-right-to-sue'].apply(lambda x: None if x == '?' else x).fillna(method='bfill')\n",
    "df1['crime'] = df1['crime'].apply(lambda x: None if x == '?' else x).fillna(method='bfill')\n",
    "df1['duty-free-exports'] = df1['duty-free-exports'].apply(lambda x: None if x == '?' else x).fillna(method='ffill')\n",
    "df1['export-administration-act-south-africa'] = df1['export-administration-act-south-africa'].apply(lambda x: None if x == '?' else x).fillna(method='bfill')\n",
    "df1['Class'] = df1['Class'].apply(lambda x: None if x == '?' else x).fillna(method='bfill')"
   ]
  },
  {
   "cell_type": "code",
   "execution_count": 8,
   "id": "eef96ca5",
   "metadata": {
    "ExecuteTime": {
     "end_time": "2022-06-08T07:45:24.499665Z",
     "start_time": "2022-06-08T07:45:24.486618Z"
    }
   },
   "outputs": [],
   "source": [
    "# Convert data types of all variables to integers (1 or 0)\n",
    "df1['handicapped-infants'] = df1['handicapped-infants'].replace({'y' : 1, 'n' : 0})\n",
    "df1['water-project-cost-sharing'] = df1['water-project-cost-sharing'].replace({'y' : 1, 'n' : 0})\n",
    "df1['adoption-of-the-budget-resolution'] = df1['adoption-of-the-budget-resolution'].replace({'y' : 1, 'n' : 0})\n",
    "df1['physician-fee-freeze'] = df1['physician-fee-freeze'].replace({'y' : 1, 'n' : 0})\n",
    "df1['el-salvador-aid'] = df1['el-salvador-aid'].replace({'y' : 1, 'n' : 0})\n",
    "df1['religious-groups-in-schools'] = df1['religious-groups-in-schools'].replace({'y' : 1, 'n' : 0})\n",
    "df1['anti-satellite-test-ban'] = df1['anti-satellite-test-ban'].replace({'y' : 1, 'n' : 0})\n",
    "df1['aid-to-nicaraguan-contras'] = df1['aid-to-nicaraguan-contras'].replace({'y' : 1, 'n' : 0})\n",
    "df1['mx-missile'] = df1['mx-missile'].replace({'y' : 1, 'n' : 0})\n",
    "df1['immigration'] = df1['immigration'].replace({'y' : 1, 'n' : 0})\n",
    "df1['synfuels-corporation-cutback'] = df1['synfuels-corporation-cutback'].replace({'y' : 1, 'n' : 0})\n",
    "df1['education-spending'] = df1['education-spending'].replace({'y' : 1, 'n' : 0})\n",
    "df1['superfund-right-to-sue'] = df1['superfund-right-to-sue'].replace({'y' : 1, 'n' : 0})\n",
    "df1['crime'] = df1['crime'].replace({'y' : 1, 'n' : 0})\n",
    "df1['duty-free-exports'] = df1['duty-free-exports'].replace({'y' : 1, 'n' : 0})\n",
    "df1['export-administration-act-south-africa'] = df1['export-administration-act-south-africa'].replace({'y' : 1, 'n' : 0})"
   ]
  },
  {
   "cell_type": "markdown",
   "id": "fcda3597",
   "metadata": {
    "ExecuteTime": {
     "end_time": "2022-06-08T01:43:03.124314Z",
     "start_time": "2022-06-08T01:43:03.109435Z"
    }
   },
   "source": [
    "**Split test and train data**"
   ]
  },
  {
   "cell_type": "code",
   "execution_count": 9,
   "id": "41937ace",
   "metadata": {
    "ExecuteTime": {
     "end_time": "2022-06-08T07:45:24.505390Z",
     "start_time": "2022-06-08T07:45:24.500839Z"
    }
   },
   "outputs": [
    {
     "name": "stdout",
     "output_type": "stream",
     "text": [
      "total num of columns and rows: (435, 17)\n"
     ]
    }
   ],
   "source": [
    "# check the number of columns and row for find the last 100 examples\n",
    "print(\"total num of columns and rows:\", df1.shape)\n",
    "# Other variables except Class variables\n",
    "x = df1.iloc[:, range(0,16)]\n",
    "# Class variables\n",
    "y = df1['Class']\n",
    "# last 100 examples for testing\n",
    "x_test = x[335:]\n",
    "y_test = y[335:]\n",
    "# remaining examples for training\n",
    "x_train = x[:335]\n",
    "y_train = y[:335]"
   ]
  },
  {
   "cell_type": "markdown",
   "id": "ec872087",
   "metadata": {},
   "source": [
    "**Bagged Decision Tree (Voting)**"
   ]
  },
  {
   "cell_type": "markdown",
   "id": "4b7fe2a1",
   "metadata": {},
   "source": [
    "Try trees of different depth (1, 2, 3, 5, 10) and different\n",
    "sizes of bag or ensemble, i.e., number of trees (10, 20, 40, 60, 80, 100). Compute the training accuracy and testing accuracy for different combinations of tree depth and number of trees; and plot them. List your observations."
   ]
  },
  {
   "cell_type": "markdown",
   "id": "c1c1e22a",
   "metadata": {},
   "source": [
    "**Depth 1 and different sizes of bagged trees**"
   ]
  },
  {
   "cell_type": "code",
   "execution_count": 10,
   "id": "71cf115e",
   "metadata": {
    "ExecuteTime": {
     "end_time": "2022-06-08T07:45:24.958395Z",
     "start_time": "2022-06-08T07:45:24.506742Z"
    }
   },
   "outputs": [
    {
     "data": {
      "image/png": "[encoded data removed]",
      "text/plain": [
       "<Figure size 432x288 with 1 Axes>"
      ]
     },
     "metadata": {
      "needs_background": "light"
     },
     "output_type": "display_data"
    },
    {
     "name": "stdout",
     "output_type": "stream",
     "text": [
      "   Depth  Num of Tree     Train  Test\n",
      "0      1           10  0.967164  0.91\n",
      "1      1           20  0.967164  0.91\n",
      "2      1           40  0.967164  0.91\n",
      "3      1           60  0.967164  0.91\n",
      "4      1           80  0.967164  0.91\n",
      "5      1          100  0.967164  0.91\n"
     ]
    }
   ],
   "source": [
    "# depth 1\n",
    "dp1Table, dp1Train, dp1Test = baggedDecision(1, x_train, y_train, x_test, y_test)\n",
    "# plot depth 1 and different sizes of bag train and test accuracy\n",
    "plt.plot(numTreeUsingPlot, dp1Train)\n",
    "plt.plot(numTreeUsingPlot, dp1Test)\n",
    "plt.title(\"Depth: 1\")\n",
    "plt.xlabel(\"Number of Tree\")\n",
    "plt.ylabel(\"Accuracy\")\n",
    "plt.legend(['train', 'test'], loc='best')\n",
    "plt.show()\n",
    "# show depth 1 and different sizes of bag train and test accuracy list\n",
    "print(dp1Table)"
   ]
  },
  {
   "cell_type": "markdown",
   "id": "7c527a15",
   "metadata": {},
   "source": [
    "**Depth 2 and different sizes of bagged trees**"
   ]
  },
  {
   "cell_type": "code",
   "execution_count": 11,
   "id": "74eafea4",
   "metadata": {
    "ExecuteTime": {
     "end_time": "2022-06-08T07:45:25.391410Z",
     "start_time": "2022-06-08T07:45:24.959608Z"
    }
   },
   "outputs": [
    {
     "data": {
      "image/png": "[encoded data removed]",
      "text/plain": [
       "<Figure size 432x288 with 1 Axes>"
      ]
     },
     "metadata": {
      "needs_background": "light"
     },
     "output_type": "display_data"
    },
    {
     "name": "stdout",
     "output_type": "stream",
     "text": [
      "   Depth  Num of Tree     Train  Test\n",
      "0      2           10  0.967164  0.91\n",
      "1      2           20  0.967164  0.91\n",
      "2      2           40  0.967164  0.91\n",
      "3      2           60  0.967164  0.91\n",
      "4      2           80  0.967164  0.91\n",
      "5      2          100  0.967164  0.91\n"
     ]
    }
   ],
   "source": [
    "# depth 2\n",
    "dp2Table, dp2Train, dp2Test = baggedDecision(2, x_train, y_train, x_test, y_test)\n",
    "# plot depth 2 and different sizes of bag train and test accuracy\n",
    "plt.plot(numTreeUsingPlot, dp2Train)\n",
    "plt.plot(numTreeUsingPlot, dp2Test)\n",
    "plt.title(\"Depth: 2\")\n",
    "plt.xlabel(\"Number of Tree\")\n",
    "plt.ylabel(\"Accuracy\")\n",
    "plt.legend(['train', 'test'], loc='best')\n",
    "plt.show()\n",
    "# show depth 2 and different sizes of bag train and test accuracy list\n",
    "print(dp2Table)"
   ]
  },
  {
   "cell_type": "markdown",
   "id": "ad12d753",
   "metadata": {
    "ExecuteTime": {
     "end_time": "2022-06-08T02:02:26.898223Z",
     "start_time": "2022-06-08T02:02:26.887863Z"
    }
   },
   "source": [
    "**Depth 3 and different sizes of bagged trees**"
   ]
  },
  {
   "cell_type": "code",
   "execution_count": 12,
   "id": "64a27c69",
   "metadata": {
    "ExecuteTime": {
     "end_time": "2022-06-08T07:45:25.828015Z",
     "start_time": "2022-06-08T07:45:25.392623Z"
    }
   },
   "outputs": [
    {
     "data": {
      "image/png": "[encoded data removed]",
      "text/plain": [
       "<Figure size 432x288 with 1 Axes>"
      ]
     },
     "metadata": {
      "needs_background": "light"
     },
     "output_type": "display_data"
    },
    {
     "name": "stdout",
     "output_type": "stream",
     "text": [
      "   Depth  Num of Tree     Train  Test\n",
      "0      3           10  0.976119  0.93\n",
      "1      3           20  0.973134  0.91\n",
      "2      3           40  0.973134  0.91\n",
      "3      3           60  0.973134  0.91\n",
      "4      3           80  0.973134  0.91\n",
      "5      3          100  0.973134  0.91\n"
     ]
    }
   ],
   "source": [
    "# depth 3\n",
    "dp3Table, dp3Train, dp3Test = baggedDecision(3, x_train, y_train, x_test, y_test)\n",
    "# plot depth 3 and different sizes of bag train and test accuracy\n",
    "plt.plot(numTreeUsingPlot, dp3Train)\n",
    "plt.plot(numTreeUsingPlot, dp3Test)\n",
    "plt.title(\"Depth: 3\")\n",
    "plt.xlabel(\"Number of Tree\")\n",
    "plt.ylabel(\"Accuracy\")\n",
    "plt.legend(['train', 'test'], loc='best')\n",
    "plt.show()\n",
    "# show depth 3 and different sizes of bag train and test accuracy list\n",
    "print(dp3Table)"
   ]
  },
  {
   "cell_type": "markdown",
   "id": "e714e29b",
   "metadata": {
    "ExecuteTime": {
     "end_time": "2022-06-08T02:02:28.360481Z",
     "start_time": "2022-06-08T02:02:28.349704Z"
    }
   },
   "source": [
    "**Depth 5 and different sizes of bagged trees**"
   ]
  },
  {
   "cell_type": "code",
   "execution_count": 13,
   "id": "c8b7b09d",
   "metadata": {
    "ExecuteTime": {
     "end_time": "2022-06-08T07:45:26.272934Z",
     "start_time": "2022-06-08T07:45:25.829369Z"
    }
   },
   "outputs": [
    {
     "data": {
      "image/png": "[encoded data removed]",
      "text/plain": [
       "<Figure size 432x288 with 1 Axes>"
      ]
     },
     "metadata": {
      "needs_background": "light"
     },
     "output_type": "display_data"
    },
    {
     "name": "stdout",
     "output_type": "stream",
     "text": [
      "   Depth  Num of Tree     Train  Test\n",
      "0      5           10  0.991045  0.94\n",
      "1      5           20  0.991045  0.94\n",
      "2      5           40  0.991045  0.94\n",
      "3      5           60  0.991045  0.94\n",
      "4      5           80  0.991045  0.94\n",
      "5      5          100  0.991045  0.93\n"
     ]
    }
   ],
   "source": [
    "# depth 5\n",
    "dp5Table, dp5Train, dp5Test = baggedDecision(5, x_train, y_train, x_test, y_test)\n",
    "# plot depth 5 and different sizes of bag train and test accuracy\n",
    "plt.plot(numTreeUsingPlot, dp5Train)\n",
    "plt.plot(numTreeUsingPlot, dp5Test)\n",
    "plt.title(\"Depth: 5\")\n",
    "plt.xlabel(\"Number of Tree\")\n",
    "plt.ylabel(\"Accuracy\")\n",
    "plt.legend(['train', 'test'], loc='best')\n",
    "plt.show()\n",
    "# show depth 5 and different sizes of bag train and test accuracy list\n",
    "print(dp5Table)"
   ]
  },
  {
   "cell_type": "markdown",
   "id": "8e880c55",
   "metadata": {},
   "source": [
    "**Depth 10 and different sizes of bagged trees**"
   ]
  },
  {
   "cell_type": "code",
   "execution_count": 14,
   "id": "dbfb0ee6",
   "metadata": {
    "ExecuteTime": {
     "end_time": "2022-06-08T07:45:26.718512Z",
     "start_time": "2022-06-08T07:45:26.274082Z"
    }
   },
   "outputs": [
    {
     "data": {
      "image/png": "[encoded data removed]",
      "text/plain": [
       "<Figure size 432x288 with 1 Axes>"
      ]
     },
     "metadata": {
      "needs_background": "light"
     },
     "output_type": "display_data"
    },
    {
     "name": "stdout",
     "output_type": "stream",
     "text": [
      "   Depth  Num of Tree     Train  Test\n",
      "0     10           10  0.994030  0.93\n",
      "1     10           20  0.997015  0.94\n",
      "2     10           40  0.997015  0.93\n",
      "3     10           60  0.997015  0.93\n",
      "4     10           80  0.997015  0.92\n",
      "5     10          100  0.997015  0.93\n"
     ]
    }
   ],
   "source": [
    "# depth 10\n",
    "dp10Table, dp10Train, dp10Test = baggedDecision(10, x_train, y_train, x_test, y_test)\n",
    "# plot depth 5 and different sizes of bag train and test accuracy\n",
    "plt.plot(numTreeUsingPlot, dp10Train)\n",
    "plt.plot(numTreeUsingPlot, dp10Test)\n",
    "plt.title(\"Depth: 10\")\n",
    "plt.xlabel(\"Number of Tree\")\n",
    "plt.ylabel(\"Accuracy\")\n",
    "plt.legend(['train', 'test'], loc='best')\n",
    "plt.show()\n",
    "# show depth 10 and different sizes of bag train and test accuracy list\n",
    "print(dp10Table)"
   ]
  },
  {
   "cell_type": "markdown",
   "id": "f7ec3f31",
   "metadata": {
    "ExecuteTime": {
     "end_time": "2022-06-08T05:40:50.037815Z",
     "start_time": "2022-06-08T05:40:50.025664Z"
    }
   },
   "source": [
    "**SVM Classification (Voting)**"
   ]
  },
  {
   "cell_type": "markdown",
   "id": "a0b0a821",
   "metadata": {},
   "source": [
    "(a) Using a linear kernel (-t 0 option), train the SVM on the training data for different values of C parameter. Compute the training accuracy, and testing accuracy for the SVM obtained with different values of the C parameter. Plot the training accuracy and testing accuracy as a function of C (C value on x-axis and Accuracy on y-axis) – one curve each for training, validation, and testing data."
   ]
  },
  {
   "cell_type": "code",
   "execution_count": 15,
   "id": "3c4238ad",
   "metadata": {
    "ExecuteTime": {
     "end_time": "2022-06-08T07:45:27.037353Z",
     "start_time": "2022-06-08T07:45:26.719550Z"
    }
   },
   "outputs": [
    {
     "data": {
      "image/png": "[encoded data removed]",
      "text/plain": [
       "<Figure size 432x288 with 1 Axes>"
      ]
     },
     "metadata": {
      "needs_background": "light"
     },
     "output_type": "display_data"
    },
    {
     "name": "stdout",
     "output_type": "stream",
     "text": [
      "   Kernel  Degree  C Parameter     Train  Test\n",
      "0  Linear       0       0.0001  0.620896  0.59\n",
      "1  Linear       0       0.0010  0.620896  0.59\n",
      "2  Linear       0       0.0100  0.943284  0.89\n",
      "3  Linear       0       0.1000  0.967164  0.91\n",
      "4  Linear       0       1.0000  0.976119  0.92\n",
      "5  Linear       0      10.0000  0.982090  0.93\n",
      "6  Linear       0     100.0000  0.982090  0.93\n",
      "7  Linear       0    1000.0000  0.982090  0.93\n",
      "8  Linear       0   10000.0000  0.985075  0.93\n"
     ]
    }
   ],
   "source": [
    "# linear kernel SVM on the training data for different C parameters\n",
    "# degree default\n",
    "linearTable, linearTrain, linearTest = SVMLinear(0, x_train, y_train, x_test, y_test)\n",
    "# plot linear kernel SVM for different C parameters \n",
    "plt.plot(cParaUsingPlot, linearTrain)\n",
    "plt.plot(cParaUsingPlot, linearTest)\n",
    "plt.title(\"Linear kernel\")\n",
    "plt.xlabel(\"Values of the C parameter\")\n",
    "plt.ylabel(\"Accuracy\")\n",
    "plt.legend(['train', 'test'], loc='best')\n",
    "plt.show()\n",
    "# show different values of C parameter of linear kernel SVM\n",
    "print(linearTable)"
   ]
  },
  {
   "cell_type": "markdown",
   "id": "4ab9ae44",
   "metadata": {},
   "source": [
    "(b) Repeat the experiment (a) with polynomial kernel (-t 1 -d option) of degree 2, 3, and 4. Compare the training and testing accuracies for different kernels (linear, polynomial kernel of degree 2, polynomial kernel of degree 3, and polynomial kernel of degree 4). List your observations."
   ]
  },
  {
   "cell_type": "markdown",
   "id": "87dc68dd",
   "metadata": {},
   "source": [
    "**Polynomial kernel of degree 2**"
   ]
  },
  {
   "cell_type": "code",
   "execution_count": 16,
   "id": "ffaa0276",
   "metadata": {
    "ExecuteTime": {
     "end_time": "2022-06-08T07:45:27.181470Z",
     "start_time": "2022-06-08T07:45:27.038748Z"
    }
   },
   "outputs": [
    {
     "data": {
      "image/png": "[encoded data removed]",
      "text/plain": [
       "<Figure size 432x288 with 1 Axes>"
      ]
     },
     "metadata": {
      "needs_background": "light"
     },
     "output_type": "display_data"
    },
    {
     "name": "stdout",
     "output_type": "stream",
     "text": [
      "       Kernel  Degree  C Parameter     Train  Test\n",
      "0  Polynomial       2       0.0001  0.620896  0.59\n",
      "1  Polynomial       2       0.0010  0.620896  0.59\n",
      "2  Polynomial       2       0.0100  0.928358  0.87\n",
      "3  Polynomial       2       0.1000  0.970149  0.91\n",
      "4  Polynomial       2       1.0000  0.982090  0.92\n",
      "5  Polynomial       2      10.0000  0.994030  0.92\n",
      "6  Polynomial       2     100.0000  0.997015  0.90\n",
      "7  Polynomial       2    1000.0000  0.997015  0.90\n",
      "8  Polynomial       2   10000.0000  0.997015  0.90\n"
     ]
    }
   ],
   "source": [
    "# polynomial kernel SVM on the training data for different C parameters\n",
    "# degree 2\n",
    "polyTable2, polyTrain2, polyTest2 = SVMPoly(2, x_train, y_train, x_test, y_test)\n",
    "# plot polynomial kernel SVM for different C parameters \n",
    "plt.plot(cParaUsingPlot, polyTrain2)\n",
    "plt.plot(cParaUsingPlot, polyTest2)\n",
    "plt.title(\"Polynomial kernel\")\n",
    "plt.xlabel(\"Values of the C parameter\")\n",
    "plt.ylabel(\"Accuracy\")\n",
    "plt.legend(['train', 'test'], loc='best')\n",
    "plt.show()\n",
    "# show different values of C parameter of polynomial kernel SVM\n",
    "print(polyTable2)"
   ]
  },
  {
   "cell_type": "markdown",
   "id": "025ef5f0",
   "metadata": {
    "ExecuteTime": {
     "end_time": "2022-06-08T05:47:33.730120Z",
     "start_time": "2022-06-08T05:47:33.721586Z"
    }
   },
   "source": [
    "**Polynomial kernel of degree 3**"
   ]
  },
  {
   "cell_type": "code",
   "execution_count": 17,
   "id": "72619fad",
   "metadata": {
    "ExecuteTime": {
     "end_time": "2022-06-08T07:45:27.324504Z",
     "start_time": "2022-06-08T07:45:27.182907Z"
    }
   },
   "outputs": [
    {
     "data": {
      "image/png": "[encoded data removed]",
      "text/plain": [
       "<Figure size 432x288 with 1 Axes>"
      ]
     },
     "metadata": {
      "needs_background": "light"
     },
     "output_type": "display_data"
    },
    {
     "name": "stdout",
     "output_type": "stream",
     "text": [
      "       Kernel  Degree  C Parameter     Train  Test\n",
      "0  Polynomial       3       0.0001  0.620896  0.59\n",
      "1  Polynomial       3       0.0010  0.620896  0.59\n",
      "2  Polynomial       3       0.0100  0.949254  0.89\n",
      "3  Polynomial       3       0.1000  0.982090  0.92\n",
      "4  Polynomial       3       1.0000  0.988060  0.93\n",
      "5  Polynomial       3      10.0000  0.997015  0.90\n",
      "6  Polynomial       3     100.0000  0.997015  0.90\n",
      "7  Polynomial       3    1000.0000  0.997015  0.90\n",
      "8  Polynomial       3   10000.0000  0.997015  0.90\n"
     ]
    }
   ],
   "source": [
    "# polynomial kernel SVM on the training data for different C parameters\n",
    "# degree 3\n",
    "polyTable3, polyTrain3, polyTest3 = SVMPoly(3, x_train, y_train, x_test, y_test)\n",
    "# plot polynomial kernel SVM for different C parameters \n",
    "plt.plot(cParaUsingPlot, polyTrain3)\n",
    "plt.plot(cParaUsingPlot, polyTest3)\n",
    "plt.title(\"Polynomial kernel\")\n",
    "plt.xlabel(\"Values of the C parameter\")\n",
    "plt.ylabel(\"Accuracy\")\n",
    "plt.legend(['train', 'test'], loc='best')\n",
    "plt.show()\n",
    "# show different values of C parameter of polynomial kernel SVM\n",
    "print(polyTable3)"
   ]
  },
  {
   "cell_type": "markdown",
   "id": "d2f48977",
   "metadata": {},
   "source": [
    "**Polynomial kernel of degree 4**"
   ]
  },
  {
   "cell_type": "code",
   "execution_count": 18,
   "id": "143babc5",
   "metadata": {
    "ExecuteTime": {
     "end_time": "2022-06-08T07:45:27.470054Z",
     "start_time": "2022-06-08T07:45:27.325704Z"
    }
   },
   "outputs": [
    {
     "data": {
      "image/png": "[encoded data removed]",
      "text/plain": [
       "<Figure size 432x288 with 1 Axes>"
      ]
     },
     "metadata": {
      "needs_background": "light"
     },
     "output_type": "display_data"
    },
    {
     "name": "stdout",
     "output_type": "stream",
     "text": [
      "       Kernel  Degree  C Parameter     Train  Test\n",
      "0  Polynomial       4       0.0001  0.620896  0.59\n",
      "1  Polynomial       4       0.0010  0.862687  0.85\n",
      "2  Polynomial       4       0.0100  0.967164  0.89\n",
      "3  Polynomial       4       0.1000  0.985075  0.93\n",
      "4  Polynomial       4       1.0000  0.997015  0.93\n",
      "5  Polynomial       4      10.0000  0.997015  0.91\n",
      "6  Polynomial       4     100.0000  0.997015  0.91\n",
      "7  Polynomial       4    1000.0000  0.997015  0.91\n",
      "8  Polynomial       4   10000.0000  0.997015  0.91\n"
     ]
    }
   ],
   "source": [
    "# polynomial kernel SVM on the training data for different C parameters\n",
    "# degree 4\n",
    "polyTable4, polyTrain4, polyTest4 = SVMPoly(4, x_train, y_train, x_test, y_test)\n",
    "# plot polynomial kernel SVM for different C parameters \n",
    "plt.plot(cParaUsingPlot, polyTrain4)\n",
    "plt.plot(cParaUsingPlot, polyTest4)\n",
    "plt.title(\"Polynomial kernel\")\n",
    "plt.xlabel(\"Values of the C parameter\")\n",
    "plt.ylabel(\"Accuracy\")\n",
    "plt.legend(['train', 'test'], loc='best')\n",
    "plt.show()\n",
    "# show different values of C parameter of polynomial kernel SVM\n",
    "print(polyTable4)"
   ]
  },
  {
   "cell_type": "markdown",
   "id": "88707fea",
   "metadata": {},
   "source": [
    "**Compare the training and testing accuracies for different kernels**"
   ]
  },
  {
   "cell_type": "code",
   "execution_count": 19,
   "id": "9f35c975",
   "metadata": {
    "ExecuteTime": {
     "end_time": "2022-06-08T07:45:27.475373Z",
     "start_time": "2022-06-08T07:45:27.471389Z"
    }
   },
   "outputs": [
    {
     "name": "stdout",
     "output_type": "stream",
     "text": [
      "Linear Kernel\n",
      "\n",
      "    Kernel  Degree  C Parameter     Train  Test\n",
      "0  Linear       0       0.0001  0.620896  0.59\n",
      "1  Linear       0       0.0010  0.620896  0.59\n",
      "2  Linear       0       0.0100  0.943284  0.89\n",
      "3  Linear       0       0.1000  0.967164  0.91\n",
      "4  Linear       0       1.0000  0.976119  0.92\n",
      "5  Linear       0      10.0000  0.982090  0.93\n",
      "6  Linear       0     100.0000  0.982090  0.93\n",
      "7  Linear       0    1000.0000  0.982090  0.93\n",
      "8  Linear       0   10000.0000  0.985075  0.93\n"
     ]
    }
   ],
   "source": [
    "# Linear Kernel\n",
    "print(\"Linear Kernel\\n\\n\", linearTable)"
   ]
  },
  {
   "cell_type": "code",
   "execution_count": 20,
   "id": "0a2ad394",
   "metadata": {
    "ExecuteTime": {
     "end_time": "2022-06-08T07:45:27.480174Z",
     "start_time": "2022-06-08T07:45:27.476508Z"
    }
   },
   "outputs": [
    {
     "name": "stdout",
     "output_type": "stream",
     "text": [
      "Polynomial Kernel of degree 2\n",
      "\n",
      "        Kernel  Degree  C Parameter     Train  Test\n",
      "0  Polynomial       2       0.0001  0.620896  0.59\n",
      "1  Polynomial       2       0.0010  0.620896  0.59\n",
      "2  Polynomial       2       0.0100  0.928358  0.87\n",
      "3  Polynomial       2       0.1000  0.970149  0.91\n",
      "4  Polynomial       2       1.0000  0.982090  0.92\n",
      "5  Polynomial       2      10.0000  0.994030  0.92\n",
      "6  Polynomial       2     100.0000  0.997015  0.90\n",
      "7  Polynomial       2    1000.0000  0.997015  0.90\n",
      "8  Polynomial       2   10000.0000  0.997015  0.90\n"
     ]
    }
   ],
   "source": [
    "# Polynomial Kernel of degree 2\n",
    "print(\"Polynomial Kernel of degree 2\\n\\n\", polyTable2)"
   ]
  },
  {
   "cell_type": "code",
   "execution_count": 21,
   "id": "f1013c1c",
   "metadata": {
    "ExecuteTime": {
     "end_time": "2022-06-08T07:45:27.485138Z",
     "start_time": "2022-06-08T07:45:27.481460Z"
    }
   },
   "outputs": [
    {
     "name": "stdout",
     "output_type": "stream",
     "text": [
      "Polynomial Kernel of degree 3\n",
      "\n",
      "        Kernel  Degree  C Parameter     Train  Test\n",
      "0  Polynomial       3       0.0001  0.620896  0.59\n",
      "1  Polynomial       3       0.0010  0.620896  0.59\n",
      "2  Polynomial       3       0.0100  0.949254  0.89\n",
      "3  Polynomial       3       0.1000  0.982090  0.92\n",
      "4  Polynomial       3       1.0000  0.988060  0.93\n",
      "5  Polynomial       3      10.0000  0.997015  0.90\n",
      "6  Polynomial       3     100.0000  0.997015  0.90\n",
      "7  Polynomial       3    1000.0000  0.997015  0.90\n",
      "8  Polynomial       3   10000.0000  0.997015  0.90\n"
     ]
    }
   ],
   "source": [
    "# Polynomial Kernel of degree 3\n",
    "print(\"Polynomial Kernel of degree 3\\n\\n\", polyTable3)"
   ]
  },
  {
   "cell_type": "code",
   "execution_count": 22,
   "id": "df317b9c",
   "metadata": {
    "ExecuteTime": {
     "end_time": "2022-06-08T07:45:27.490529Z",
     "start_time": "2022-06-08T07:45:27.486577Z"
    }
   },
   "outputs": [
    {
     "name": "stdout",
     "output_type": "stream",
     "text": [
      "Polynomial Kernel of degree 4\n",
      "\n",
      "        Kernel  Degree  C Parameter     Train  Test\n",
      "0  Polynomial       4       0.0001  0.620896  0.59\n",
      "1  Polynomial       4       0.0010  0.862687  0.85\n",
      "2  Polynomial       4       0.0100  0.967164  0.89\n",
      "3  Polynomial       4       0.1000  0.985075  0.93\n",
      "4  Polynomial       4       1.0000  0.997015  0.93\n",
      "5  Polynomial       4      10.0000  0.997015  0.91\n",
      "6  Polynomial       4     100.0000  0.997015  0.91\n",
      "7  Polynomial       4    1000.0000  0.997015  0.91\n",
      "8  Polynomial       4   10000.0000  0.997015  0.91\n"
     ]
    }
   ],
   "source": [
    "# Polynomial Kernel of degree 4\n",
    "print(\"Polynomial Kernel of degree 4\\n\\n\", polyTable4)"
   ]
  },
  {
   "cell_type": "markdown",
   "id": "558d049d",
   "metadata": {
    "ExecuteTime": {
     "end_time": "2022-06-08T06:08:18.526046Z",
     "start_time": "2022-06-08T06:08:18.516086Z"
    }
   },
   "source": [
    "**2. IONOSPHERE**"
   ]
  },
  {
   "cell_type": "code",
   "execution_count": 23,
   "id": "3d233821",
   "metadata": {
    "ExecuteTime": {
     "end_time": "2022-06-08T07:45:27.508724Z",
     "start_time": "2022-06-08T07:45:27.495759Z"
    }
   },
   "outputs": [],
   "source": [
    "# import ionosphere dataset\n",
    "data2 = arff.loadarff('ionosphere.arff')\n",
    "# ionosphere data into data frame\n",
    "df2 = pd.DataFrame(data2[0])\n",
    "# remove b from a byte string of Class variables\n",
    "df2['class'] = df2['class'].str.decode('utf-8')"
   ]
  },
  {
   "cell_type": "markdown",
   "id": "8787eb01",
   "metadata": {},
   "source": [
    "**Split test and train data**"
   ]
  },
  {
   "cell_type": "code",
   "execution_count": 24,
   "id": "7d4f5aaf",
   "metadata": {
    "ExecuteTime": {
     "end_time": "2022-06-08T07:45:27.514039Z",
     "start_time": "2022-06-08T07:45:27.509824Z"
    }
   },
   "outputs": [],
   "source": [
    "# Other variables except class variables\n",
    "x2 = df2.iloc[:, range(0,34)]\n",
    "# Class variables\n",
    "y2 = df2['class']\n",
    "# last 25 percent examples for testing\n",
    "# remaining examples for training\n",
    "x_train2, x_test2, y_train2, y_test2 = train_test_split(x2,y2,\n",
    "                                                        train_size=0.75,\n",
    "                                                       shuffle=False,\n",
    "                                                       random_state=1)\n"
   ]
  },
  {
   "cell_type": "markdown",
   "id": "1f74e4e9",
   "metadata": {},
   "source": [
    "**Bagged Decision Tree (Ionosphere)**"
   ]
  },
  {
   "cell_type": "markdown",
   "id": "a3f2d3e1",
   "metadata": {
    "ExecuteTime": {
     "end_time": "2022-06-08T06:16:14.054006Z",
     "start_time": "2022-06-08T06:16:14.041445Z"
    }
   },
   "source": [
    "Try trees of different depth (1, 2, 3, 5, 10) and different\n",
    "sizes of bag or ensemble, i.e., number of trees (10, 20, 40, 60, 80, 100). Compute the training accuracy and testing accuracy for different combinations of tree depth and number of trees; and plot them. List your observations."
   ]
  },
  {
   "cell_type": "markdown",
   "id": "d4f45521",
   "metadata": {},
   "source": [
    "**Depth 1 and different sizes of bagged trees**"
   ]
  },
  {
   "cell_type": "code",
   "execution_count": 25,
   "id": "83121962",
   "metadata": {
    "ExecuteTime": {
     "end_time": "2022-06-08T07:45:28.023983Z",
     "start_time": "2022-06-08T07:45:27.515450Z"
    }
   },
   "outputs": [
    {
     "data": {
      "image/png": "[encoded data removed]",
      "text/plain": [
       "<Figure size 432x288 with 1 Axes>"
      ]
     },
     "metadata": {
      "needs_background": "light"
     },
     "output_type": "display_data"
    },
    {
     "name": "stdout",
     "output_type": "stream",
     "text": [
      "   Depth  Num of Tree     Train      Test\n",
      "0      1           10  0.794677  0.954545\n",
      "1      1           20  0.790875  0.954545\n",
      "2      1           40  0.790875  0.954545\n",
      "3      1           60  0.790875  0.954545\n",
      "4      1           80  0.790875  0.954545\n",
      "5      1          100  0.790875  0.954545\n"
     ]
    }
   ],
   "source": [
    "# depth 1\n",
    "dp1IPHTable, dp1IPHTrain, dp1IPHTest = baggedDecision(1, x_train2, y_train2, x_test2, y_test2)\n",
    "# plot depth 1 and different sizes of bag train and test accuracy\n",
    "plt.plot(numTreeUsingPlot, dp1IPHTrain)\n",
    "plt.plot(numTreeUsingPlot, dp1IPHTest)\n",
    "plt.title(\"Depth: 1\")\n",
    "plt.xlabel(\"Number of Tree\")\n",
    "plt.ylabel(\"Accuracy\")\n",
    "plt.legend(['train', 'test'], loc='best')\n",
    "plt.show()\n",
    "# show depth 1 and different sizes of bag train and test accuracy list\n",
    "print(dp1IPHTable)"
   ]
  },
  {
   "cell_type": "markdown",
   "id": "d6c7b067",
   "metadata": {},
   "source": [
    "**Depth 2 and different sizes of bagged trees**\n"
   ]
  },
  {
   "cell_type": "code",
   "execution_count": 26,
   "id": "7200cd0f",
   "metadata": {
    "ExecuteTime": {
     "end_time": "2022-06-08T07:45:28.615769Z",
     "start_time": "2022-06-08T07:45:28.025239Z"
    }
   },
   "outputs": [
    {
     "data": {
      "image/png": "[encoded data removed]",
      "text/plain": [
       "<Figure size 432x288 with 1 Axes>"
      ]
     },
     "metadata": {
      "needs_background": "light"
     },
     "output_type": "display_data"
    },
    {
     "name": "stdout",
     "output_type": "stream",
     "text": [
      "   Depth  Num of Tree     Train      Test\n",
      "0      2           10  0.893536  0.920455\n",
      "1      2           20  0.897338  0.920455\n",
      "2      2           40  0.897338  0.920455\n",
      "3      2           60  0.897338  0.920455\n",
      "4      2           80  0.897338  0.920455\n",
      "5      2          100  0.897338  0.920455\n"
     ]
    }
   ],
   "source": [
    "# depth 2\n",
    "dp2IPHTable, dp2IPHTrain, dp2IPHTest = baggedDecision(2, x_train2, y_train2, x_test2, y_test2)\n",
    "# plot depth 2 and different sizes of bag train and test accuracy\n",
    "plt.plot(numTreeUsingPlot, dp2IPHTrain)\n",
    "plt.plot(numTreeUsingPlot, dp2IPHTest)\n",
    "plt.title(\"Depth: 2\")\n",
    "plt.xlabel(\"Number of Tree\")\n",
    "plt.ylabel(\"Accuracy\")\n",
    "plt.legend(['train', 'test'], loc='best')\n",
    "plt.show()\n",
    "# show depth 2 and different sizes of bag train and test accuracy list\n",
    "print(dp2IPHTable)"
   ]
  },
  {
   "cell_type": "markdown",
   "id": "35aae0ae",
   "metadata": {},
   "source": [
    "**Depth 3 and different sizes of bagged trees**\n"
   ]
  },
  {
   "cell_type": "code",
   "execution_count": 27,
   "id": "b5188dec",
   "metadata": {
    "ExecuteTime": {
     "end_time": "2022-06-08T07:45:29.321959Z",
     "start_time": "2022-06-08T07:45:28.616906Z"
    }
   },
   "outputs": [
    {
     "data": {
      "image/png": "[encoded data removed]",
      "text/plain": [
       "<Figure size 432x288 with 1 Axes>"
      ]
     },
     "metadata": {
      "needs_background": "light"
     },
     "output_type": "display_data"
    },
    {
     "name": "stdout",
     "output_type": "stream",
     "text": [
      "   Depth  Num of Tree     Train      Test\n",
      "0      3           10  0.920152  0.943182\n",
      "1      3           20  0.927757  0.943182\n",
      "2      3           40  0.927757  0.943182\n",
      "3      3           60  0.912548  0.931818\n",
      "4      3           80  0.912548  0.931818\n",
      "5      3          100  0.916350  0.931818\n"
     ]
    }
   ],
   "source": [
    "# depth 3\n",
    "dp3IPHTable, dp3IPHTrain, dp3IPHTest = baggedDecision(3, x_train2, y_train2, x_test2, y_test2)\n",
    "# plot depth 3 and different sizes of bag train and test accuracy\n",
    "plt.plot(numTreeUsingPlot, dp3IPHTrain)\n",
    "plt.plot(numTreeUsingPlot, dp3IPHTest)\n",
    "plt.title(\"Depth: 3\")\n",
    "plt.xlabel(\"Number of Tree\")\n",
    "plt.ylabel(\"Accuracy\")\n",
    "plt.legend(['train', 'test'], loc='best')\n",
    "plt.show()\n",
    "# show depth 3 and different sizes of bag train and test accuracy list\n",
    "print(dp3IPHTable)"
   ]
  },
  {
   "cell_type": "markdown",
   "id": "2ca1c063",
   "metadata": {},
   "source": [
    "**Depth 5 and different sizes of bagged trees**\n"
   ]
  },
  {
   "cell_type": "code",
   "execution_count": 28,
   "id": "c3e6ba78",
   "metadata": {
    "ExecuteTime": {
     "end_time": "2022-06-08T07:45:30.097485Z",
     "start_time": "2022-06-08T07:45:29.323298Z"
    }
   },
   "outputs": [
    {
     "data": {
      "image/png": "[encoded data removed]",
      "text/plain": [
       "<Figure size 432x288 with 1 Axes>"
      ]
     },
     "metadata": {
      "needs_background": "light"
     },
     "output_type": "display_data"
    },
    {
     "name": "stdout",
     "output_type": "stream",
     "text": [
      "   Depth  Num of Tree     Train      Test\n",
      "0      5           10  0.961977  0.965909\n",
      "1      5           20  0.969582  0.977273\n",
      "2      5           40  0.965779  0.977273\n",
      "3      5           60  0.969582  0.965909\n",
      "4      5           80  0.965779  0.965909\n",
      "5      5          100  0.969582  0.965909\n"
     ]
    }
   ],
   "source": [
    "# depth 5\n",
    "dp5IPHTable, dp5IPHTrain, dp5IPHTest = baggedDecision(5, x_train2, y_train2, x_test2, y_test2)\n",
    "# plot depth 5 and different sizes of bag train and test accuracy\n",
    "plt.plot(numTreeUsingPlot, dp5IPHTrain)\n",
    "plt.plot(numTreeUsingPlot, dp5IPHTest)\n",
    "plt.title(\"Depth: 5\")\n",
    "plt.xlabel(\"Number of Tree\")\n",
    "plt.ylabel(\"Accuracy\")\n",
    "plt.legend(['train', 'test'], loc='best')\n",
    "plt.show()\n",
    "# show depth 5 and different sizes of bag train and test accuracy list\n",
    "print(dp5IPHTable)"
   ]
  },
  {
   "cell_type": "markdown",
   "id": "a23d83b9",
   "metadata": {},
   "source": [
    "**Depth 10 and different sizes of bagged trees**"
   ]
  },
  {
   "cell_type": "code",
   "execution_count": 29,
   "id": "c9806715",
   "metadata": {
    "ExecuteTime": {
     "end_time": "2022-06-08T07:45:30.983572Z",
     "start_time": "2022-06-08T07:45:30.098771Z"
    }
   },
   "outputs": [
    {
     "data": {
      "image/png": "[encoded data removed]",
      "text/plain": [
       "<Figure size 432x288 with 1 Axes>"
      ]
     },
     "metadata": {
      "needs_background": "light"
     },
     "output_type": "display_data"
    },
    {
     "name": "stdout",
     "output_type": "stream",
     "text": [
      "   Depth  Num of Tree     Train      Test\n",
      "0     10           10  0.996198  0.943182\n",
      "1     10           20  0.996198  0.965909\n",
      "2     10           40  0.996198  0.965909\n",
      "3     10           60  0.996198  0.965909\n",
      "4     10           80  1.000000  0.954545\n",
      "5     10          100  1.000000  0.954545\n"
     ]
    }
   ],
   "source": [
    "# depth 10\n",
    "dp10IPHTable, dp10IPHTrain, dp10IPHTest = baggedDecision(10, x_train2, y_train2, x_test2, y_test2)\n",
    "# plot depth 10 and different sizes of bag train and test accuracy\n",
    "plt.plot(numTreeUsingPlot, dp10IPHTrain)\n",
    "plt.plot(numTreeUsingPlot, dp10IPHTest)\n",
    "plt.title(\"Depth: 10\")\n",
    "plt.xlabel(\"Number of Tree\")\n",
    "plt.ylabel(\"Accuracy\")\n",
    "plt.legend(['train', 'test'], loc='best')\n",
    "plt.show()\n",
    "# show depth 10 and different sizes of bag train and test accuracy list\n",
    "print(dp10IPHTable)"
   ]
  },
  {
   "cell_type": "markdown",
   "id": "80cf5443",
   "metadata": {},
   "source": [
    "**SVM Classification (Ionosphere)**"
   ]
  },
  {
   "cell_type": "markdown",
   "id": "0f89d444",
   "metadata": {},
   "source": [
    "(a) Using a linear kernel (-t 0 option), train the SVM on the training data for different values of C parameter. Com- pute the training accuracy, and testing accuracy for the SVM obtained with different values of the C parameter. Plot the training accuracy and testing accuracy as a function of C (C value on x-axis and Accuracy on y-axis) – one curve each for training, validation, and testing data."
   ]
  },
  {
   "cell_type": "code",
   "execution_count": 30,
   "id": "51dee810",
   "metadata": {
    "ExecuteTime": {
     "end_time": "2022-06-08T07:45:39.497038Z",
     "start_time": "2022-06-08T07:45:30.985226Z"
    }
   },
   "outputs": [
    {
     "data": {
      "image/png": "[encoded data removed]",
      "text/plain": [
       "<Figure size 432x288 with 1 Axes>"
      ]
     },
     "metadata": {
      "needs_background": "light"
     },
     "output_type": "display_data"
    },
    {
     "name": "stdout",
     "output_type": "stream",
     "text": [
      "   Kernel  Degree  C Parameter     Train      Test\n",
      "0  Linear       0       0.0001  0.520913  1.000000\n",
      "1  Linear       0       0.0010  0.520913  1.000000\n",
      "2  Linear       0       0.0100  0.840304  0.965909\n",
      "3  Linear       0       0.1000  0.874525  0.943182\n",
      "4  Linear       0       1.0000  0.901141  0.943182\n",
      "5  Linear       0      10.0000  0.920152  0.954545\n",
      "6  Linear       0     100.0000  0.939163  0.965909\n",
      "7  Linear       0    1000.0000  0.931559  0.965909\n",
      "8  Linear       0   10000.0000  0.931559  0.965909\n"
     ]
    }
   ],
   "source": [
    "# linear kernel SVM on the training data for different C parameters\n",
    "# degree default\n",
    "linearTableIPH, linearTrainIPH, linearTestIPH = SVMLinear(0, x_train2, y_train2, x_test2, y_test2)\n",
    "# plot linear kernel SVM for different C parameters \n",
    "plt.plot(cParaUsingPlot, linearTrainIPH)\n",
    "plt.plot(cParaUsingPlot, linearTestIPH)\n",
    "plt.title(\"Linear kernel\")\n",
    "plt.xlabel(\"Values of the C parameter\")\n",
    "plt.ylabel(\"Accuracy\")\n",
    "plt.legend(['train', 'test'], loc='best')\n",
    "plt.show()\n",
    "# show different values of C parameter of linear kernel SVM\n",
    "print(linearTableIPH)"
   ]
  },
  {
   "cell_type": "markdown",
   "id": "7ecae873",
   "metadata": {},
   "source": [
    "(b) Repeat the experiment (a) with polynomial kernel (-t 1 -d option) of degree 2, 3, and 4. Compare the training and testing accuracies for different kernels (linear, polynomial kernel of degree 2, polynomial kernel of degree 3, and polynomial kernel of degree 4). List your observations."
   ]
  },
  {
   "cell_type": "markdown",
   "id": "18d4a0a0",
   "metadata": {},
   "source": [
    "**Polynomial kernel of degree 2**"
   ]
  },
  {
   "cell_type": "code",
   "execution_count": 31,
   "id": "a09148ff",
   "metadata": {
    "ExecuteTime": {
     "end_time": "2022-06-08T07:45:39.656593Z",
     "start_time": "2022-06-08T07:45:39.498190Z"
    }
   },
   "outputs": [
    {
     "data": {
      "image/png": "[encoded data removed]",
      "text/plain": [
       "<Figure size 432x288 with 1 Axes>"
      ]
     },
     "metadata": {
      "needs_background": "light"
     },
     "output_type": "display_data"
    },
    {
     "name": "stdout",
     "output_type": "stream",
     "text": [
      "       Kernel  Degree  C Parameter     Train      Test\n",
      "0  Polynomial       2       0.0001  0.520913  1.000000\n",
      "1  Polynomial       2       0.0010  0.520913  1.000000\n",
      "2  Polynomial       2       0.0100  0.520913  1.000000\n",
      "3  Polynomial       2       0.1000  0.828897  0.738636\n",
      "4  Polynomial       2       1.0000  0.908745  0.943182\n",
      "5  Polynomial       2      10.0000  0.973384  0.977273\n",
      "6  Polynomial       2     100.0000  0.992395  0.954545\n",
      "7  Polynomial       2    1000.0000  1.000000  0.977273\n",
      "8  Polynomial       2   10000.0000  1.000000  0.965909\n"
     ]
    }
   ],
   "source": [
    "# polynomial kernel SVM on the training data for different C parameters\n",
    "# degree 2\n",
    "polyTable2IPH, polyTrain2IPH, polyTest2IPH = SVMPoly(2, x_train2, y_train2, x_test2, y_test2)\n",
    "# plot polynomial kernel SVM for different C parameters \n",
    "plt.plot(cParaUsingPlot, polyTrain2IPH)\n",
    "plt.plot(cParaUsingPlot, polyTest2IPH)\n",
    "plt.title(\"Polynomial kernel\")\n",
    "plt.xlabel(\"Values of the C parameter\")\n",
    "plt.ylabel(\"Accuracy\")\n",
    "plt.legend(['train', 'test'], loc='best')\n",
    "plt.show()\n",
    "# show different values of C parameter of polynomial kernel SVM\n",
    "print(polyTable2IPH)"
   ]
  },
  {
   "cell_type": "markdown",
   "id": "d6deb330",
   "metadata": {
    "ExecuteTime": {
     "end_time": "2022-06-08T06:18:06.024986Z",
     "start_time": "2022-06-08T06:18:06.018291Z"
    }
   },
   "source": [
    "**Polynomial kernel of degree 3**"
   ]
  },
  {
   "cell_type": "code",
   "execution_count": 32,
   "id": "d98c29b6",
   "metadata": {
    "ExecuteTime": {
     "end_time": "2022-06-08T07:45:39.811594Z",
     "start_time": "2022-06-08T07:45:39.658105Z"
    }
   },
   "outputs": [
    {
     "data": {
      "image/png": "[encoded data removed]",
      "text/plain": [
       "<Figure size 432x288 with 1 Axes>"
      ]
     },
     "metadata": {
      "needs_background": "light"
     },
     "output_type": "display_data"
    },
    {
     "name": "stdout",
     "output_type": "stream",
     "text": [
      "       Kernel  Degree  C Parameter     Train      Test\n",
      "0  Polynomial       3       0.0001  0.520913  1.000000\n",
      "1  Polynomial       3       0.0010  0.520913  1.000000\n",
      "2  Polynomial       3       0.0100  0.520913  1.000000\n",
      "3  Polynomial       3       0.1000  0.840304  0.568182\n",
      "4  Polynomial       3       1.0000  0.908745  0.852273\n",
      "5  Polynomial       3      10.0000  0.965779  0.954545\n",
      "6  Polynomial       3     100.0000  0.980989  0.965909\n",
      "7  Polynomial       3    1000.0000  0.996198  0.965909\n",
      "8  Polynomial       3   10000.0000  1.000000  0.965909\n"
     ]
    }
   ],
   "source": [
    "# polynomial kernel SVM on the training data for different C parameters\n",
    "# degree 3\n",
    "polyTable3IPH, polyTrain3IPH, polyTest3IPH = SVMPoly(3, x_train2, y_train2, x_test2, y_test2)\n",
    "# plot polynomial kernel SVM for different C parameters \n",
    "plt.plot(cParaUsingPlot, polyTrain3IPH)\n",
    "plt.plot(cParaUsingPlot, polyTest3IPH)\n",
    "plt.title(\"Polynomial kernel\")\n",
    "plt.xlabel(\"Values of the C parameter\")\n",
    "plt.ylabel(\"Accuracy\")\n",
    "plt.legend(['train', 'test'], loc='best')\n",
    "plt.show()\n",
    "# show different values of C parameter of polynomial kernel SVM\n",
    "print(polyTable3IPH)"
   ]
  },
  {
   "cell_type": "markdown",
   "id": "92ab5402",
   "metadata": {
    "ExecuteTime": {
     "end_time": "2022-06-08T06:18:06.299641Z",
     "start_time": "2022-06-08T06:18:06.296722Z"
    }
   },
   "source": [
    "**Polynomial kernel of degree 4**"
   ]
  },
  {
   "cell_type": "code",
   "execution_count": 33,
   "id": "2ea794bc",
   "metadata": {
    "ExecuteTime": {
     "end_time": "2022-06-08T07:45:39.966824Z",
     "start_time": "2022-06-08T07:45:39.812962Z"
    }
   },
   "outputs": [
    {
     "data": {
      "image/png": "[encoded data removed]",
      "text/plain": [
       "<Figure size 432x288 with 1 Axes>"
      ]
     },
     "metadata": {
      "needs_background": "light"
     },
     "output_type": "display_data"
    },
    {
     "name": "stdout",
     "output_type": "stream",
     "text": [
      "       Kernel  Degree  C Parameter     Train      Test\n",
      "0  Polynomial       4       0.0001  0.520913  1.000000\n",
      "1  Polynomial       4       0.0010  0.520913  1.000000\n",
      "2  Polynomial       4       0.0100  0.574144  1.000000\n",
      "3  Polynomial       4       0.1000  0.821293  0.545455\n",
      "4  Polynomial       4       1.0000  0.912548  0.818182\n",
      "5  Polynomial       4      10.0000  0.939163  0.875000\n",
      "6  Polynomial       4     100.0000  0.977186  0.977273\n",
      "7  Polynomial       4    1000.0000  0.992395  0.954545\n",
      "8  Polynomial       4   10000.0000  0.996198  0.965909\n"
     ]
    }
   ],
   "source": [
    "# polynomial kernel SVM on the training data for different C parameters\n",
    "# degree 4\n",
    "polyTable4IPH, polyTrain4IPH, polyTest4IPH = SVMPoly(4, x_train2, y_train2, x_test2, y_test2)\n",
    "# plot polynomial kernel SVM for different C parameters \n",
    "plt.plot(cParaUsingPlot, polyTrain4IPH)\n",
    "plt.plot(cParaUsingPlot, polyTest4IPH)\n",
    "plt.title(\"Polynomial kernel\")\n",
    "plt.xlabel(\"Values of the C parameter\")\n",
    "plt.ylabel(\"Accuracy\")\n",
    "plt.legend(['train', 'test'], loc='best')\n",
    "plt.show()\n",
    "# show different values of C parameter of polynomial kernel SVM\n",
    "print(polyTable4IPH)"
   ]
  },
  {
   "cell_type": "markdown",
   "id": "001221ec",
   "metadata": {},
   "source": [
    "**Compare the training and testing accuracies for different kernels**"
   ]
  },
  {
   "cell_type": "code",
   "execution_count": 34,
   "id": "686f444f",
   "metadata": {
    "ExecuteTime": {
     "end_time": "2022-06-08T07:45:39.972420Z",
     "start_time": "2022-06-08T07:45:39.968266Z"
    }
   },
   "outputs": [
    {
     "name": "stdout",
     "output_type": "stream",
     "text": [
      "Linear Kernel\n",
      "\n",
      "    Kernel  Degree  C Parameter     Train      Test\n",
      "0  Linear       0       0.0001  0.520913  1.000000\n",
      "1  Linear       0       0.0010  0.520913  1.000000\n",
      "2  Linear       0       0.0100  0.840304  0.965909\n",
      "3  Linear       0       0.1000  0.874525  0.943182\n",
      "4  Linear       0       1.0000  0.901141  0.943182\n",
      "5  Linear       0      10.0000  0.920152  0.954545\n",
      "6  Linear       0     100.0000  0.939163  0.965909\n",
      "7  Linear       0    1000.0000  0.931559  0.965909\n",
      "8  Linear       0   10000.0000  0.931559  0.965909\n"
     ]
    }
   ],
   "source": [
    "# Linear Kernel\n",
    "print(\"Linear Kernel\\n\\n\", linearTableIPH)"
   ]
  },
  {
   "cell_type": "code",
   "execution_count": 35,
   "id": "be4f96b8",
   "metadata": {
    "ExecuteTime": {
     "end_time": "2022-06-08T07:45:39.978305Z",
     "start_time": "2022-06-08T07:45:39.974179Z"
    }
   },
   "outputs": [
    {
     "name": "stdout",
     "output_type": "stream",
     "text": [
      "Polynomial Kernel of degree 2\n",
      "\n",
      "        Kernel  Degree  C Parameter     Train      Test\n",
      "0  Polynomial       2       0.0001  0.520913  1.000000\n",
      "1  Polynomial       2       0.0010  0.520913  1.000000\n",
      "2  Polynomial       2       0.0100  0.520913  1.000000\n",
      "3  Polynomial       2       0.1000  0.828897  0.738636\n",
      "4  Polynomial       2       1.0000  0.908745  0.943182\n",
      "5  Polynomial       2      10.0000  0.973384  0.977273\n",
      "6  Polynomial       2     100.0000  0.992395  0.954545\n",
      "7  Polynomial       2    1000.0000  1.000000  0.977273\n",
      "8  Polynomial       2   10000.0000  1.000000  0.965909\n"
     ]
    }
   ],
   "source": [
    "# Polynomial Kernel of degree 2\n",
    "print(\"Polynomial Kernel of degree 2\\n\\n\", polyTable2IPH)"
   ]
  },
  {
   "cell_type": "code",
   "execution_count": 36,
   "id": "6bee6fb9",
   "metadata": {
    "ExecuteTime": {
     "end_time": "2022-06-08T07:45:39.982877Z",
     "start_time": "2022-06-08T07:45:39.979431Z"
    }
   },
   "outputs": [
    {
     "name": "stdout",
     "output_type": "stream",
     "text": [
      "Polynomial Kernel of degree 3\n",
      "\n",
      "        Kernel  Degree  C Parameter     Train      Test\n",
      "0  Polynomial       3       0.0001  0.520913  1.000000\n",
      "1  Polynomial       3       0.0010  0.520913  1.000000\n",
      "2  Polynomial       3       0.0100  0.520913  1.000000\n",
      "3  Polynomial       3       0.1000  0.840304  0.568182\n",
      "4  Polynomial       3       1.0000  0.908745  0.852273\n",
      "5  Polynomial       3      10.0000  0.965779  0.954545\n",
      "6  Polynomial       3     100.0000  0.980989  0.965909\n",
      "7  Polynomial       3    1000.0000  0.996198  0.965909\n",
      "8  Polynomial       3   10000.0000  1.000000  0.965909\n"
     ]
    }
   ],
   "source": [
    "# Polynomial Kernel of degree 3\n",
    "print(\"Polynomial Kernel of degree 3\\n\\n\", polyTable3IPH)"
   ]
  },
  {
   "cell_type": "code",
   "execution_count": 37,
   "id": "ee62f6b2",
   "metadata": {
    "ExecuteTime": {
     "end_time": "2022-06-08T07:45:39.989066Z",
     "start_time": "2022-06-08T07:45:39.984367Z"
    }
   },
   "outputs": [
    {
     "name": "stdout",
     "output_type": "stream",
     "text": [
      "Polynomial Kernel of degree 4\n",
      "\n",
      "        Kernel  Degree  C Parameter     Train      Test\n",
      "0  Polynomial       4       0.0001  0.520913  1.000000\n",
      "1  Polynomial       4       0.0010  0.520913  1.000000\n",
      "2  Polynomial       4       0.0100  0.574144  1.000000\n",
      "3  Polynomial       4       0.1000  0.821293  0.545455\n",
      "4  Polynomial       4       1.0000  0.912548  0.818182\n",
      "5  Polynomial       4      10.0000  0.939163  0.875000\n",
      "6  Polynomial       4     100.0000  0.977186  0.977273\n",
      "7  Polynomial       4    1000.0000  0.992395  0.954545\n",
      "8  Polynomial       4   10000.0000  0.996198  0.965909\n"
     ]
    }
   ],
   "source": [
    "# Polynomial Kernel of degree 4\n",
    "print(\"Polynomial Kernel of degree 4\\n\\n\", polyTable4IPH)"
   ]
  }
 ],
 "metadata": {
  "kernelspec": {
   "display_name": "Python [conda env:pythonProject1]",
   "language": "python",
   "name": "conda-env-pythonProject1-py"
  },
  "language_info": {
   "codemirror_mode": {
    "name": "ipython",
    "version": 3
   },
   "file_extension": ".py",
   "mimetype": "text/x-python",
   "name": "python",
   "nbconvert_exporter": "python",
   "pygments_lexer": "ipython3",
   "version": "3.9.12"
  },
  "toc": {
   "base_numbering": 1,
   "nav_menu": {},
   "number_sections": true,
   "sideBar": true,
   "skip_h1_title": false,
   "title_cell": "Table of Contents",
   "title_sidebar": "Contents",
   "toc_cell": false,
   "toc_position": {},
   "toc_section_display": true,
   "toc_window_display": false
  },
  "varInspector": {
   "cols": {
    "lenName": 16,
    "lenType": 16,
    "lenVar": 40
   },
   "kernels_config": {
    "python": {
     "delete_cmd_postfix": "",
     "delete_cmd_prefix": "del ",
     "library": "var_list.py",
     "varRefreshCmd": "print(var_dic_list())"
    },
    "r": {
     "delete_cmd_postfix": ") ",
     "delete_cmd_prefix": "rm(",
     "library": "var_list.r",
     "varRefreshCmd": "cat(var_dic_list()) "
    }
   },
   "types_to_exclude": [
    "module",
    "function",
    "builtin_function_or_method",
    "instance",
    "_Feature"
   ],
   "window_display": false
  }
 },
 "nbformat": 4,
 "nbformat_minor": 5
}
